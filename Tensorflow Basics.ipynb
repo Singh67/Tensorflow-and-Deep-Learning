{
 "cells": [
  {
   "cell_type": "code",
   "execution_count": 1,
   "metadata": {
    "collapsed": true
   },
   "outputs": [],
   "source": [
    "import tensorflow as tf"
   ]
  },
  {
   "cell_type": "code",
   "execution_count": 2,
   "metadata": {
    "collapsed": true
   },
   "outputs": [],
   "source": [
    "g=tf.Graph()"
   ]
  },
  {
   "cell_type": "code",
   "execution_count": 3,
   "metadata": {
    "collapsed": true
   },
   "outputs": [],
   "source": [
    "with g.as_default():\n",
    "    x=tf.placeholder(dtype=tf.float32,shape=(None),name='x')\n",
    "    w=tf.Variable(2.0,name='weight')\n",
    "    b=tf.Variable(0.7,name='bias')\n",
    "    z=w*x + b\n",
    "    init=tf.global_variables_initializer()"
   ]
  },
  {
   "cell_type": "code",
   "execution_count": 4,
   "metadata": {},
   "outputs": [
    {
     "name": "stdout",
     "output_type": "stream",
     "text": [
      "x= 1.0-->z= 2.7\n",
      "x= 0.6-->z= 1.9\n",
      "x=-1.8-->z=-2.9\n"
     ]
    }
   ],
   "source": [
    "with tf.Session(graph=g) as sess:\n",
    "    sess.run(init)\n",
    "    for t in [1.0,0.6,-1.8]:\n",
    "        print('x=%4.1f-->z=%4.1f' %(t,sess.run(z,feed_dict={x:t})))"
   ]
  },
  {
   "cell_type": "code",
   "execution_count": 5,
   "metadata": {},
   "outputs": [
    {
     "name": "stdout",
     "output_type": "stream",
     "text": [
      "[ 2.70000005  4.69999981  6.69999981]\n"
     ]
    }
   ],
   "source": [
    "with tf.Session(graph=g) as sess:\n",
    "    sess.run(init)\n",
    "    print(sess.run(z,feed_dict={x:[1.,2.,3.]}))"
   ]
  },
  {
   "cell_type": "code",
   "execution_count": 6,
   "metadata": {
    "collapsed": true
   },
   "outputs": [],
   "source": [
    "#Working with array structure"
   ]
  },
  {
   "cell_type": "code",
   "execution_count": 7,
   "metadata": {
    "collapsed": true
   },
   "outputs": [],
   "source": [
    "import numpy as np"
   ]
  },
  {
   "cell_type": "code",
   "execution_count": 8,
   "metadata": {
    "collapsed": true
   },
   "outputs": [],
   "source": [
    "g=tf.Graph()\n",
    "with g.as_default():\n",
    "    x=tf.placeholder(dtype=tf.float32,shape=(None,2,3),name='input_x')\n",
    "    x2=tf.reshape(x,shape=(-1,6),name='x2')\n",
    "    xsum=tf.reduce_sum(x2,axis=0,name='col_sum')\n",
    "    xmean=tf.reduce_mean(x2,axis=0,name='col_mean')"
   ]
  },
  {
   "cell_type": "code",
   "execution_count": 9,
   "metadata": {},
   "outputs": [
    {
     "name": "stdout",
     "output_type": "stream",
     "text": [
      "input shape:  (3, 2, 3)\n",
      "Reshaped : [[  0.   1.   2.   3.   4.   5.]\n",
      " [  6.   7.   8.   9.  10.  11.]\n",
      " [ 12.  13.  14.  15.  16.  17.]]\n",
      "Column sum:\n",
      " [ 18.  21.  24.  27.  30.  33.]\n",
      "Column mean: \n",
      " [  6.   7.   8.   9.  10.  11.]\n"
     ]
    }
   ],
   "source": [
    "with tf.Session(graph=g) as sess:\n",
    "    x_array=np.arange(18).reshape(3,2,3)\n",
    "    print('input shape: ',x_array.shape)\n",
    "    print('Reshaped :' ,sess.run(x2,feed_dict={x:x_array}))\n",
    "    print('Column sum:\\n' ,sess.run(xsum,feed_dict={x:x_array}))\n",
    "    print('Column mean: \\n',sess.run(xmean,feed_dict={x:x_array}))"
   ]
  },
  {
   "cell_type": "code",
   "execution_count": 10,
   "metadata": {
    "collapsed": true
   },
   "outputs": [],
   "source": [
    "#Developing a simple model with low level TesnorFlow API"
   ]
  },
  {
   "cell_type": "code",
   "execution_count": 11,
   "metadata": {
    "collapsed": true
   },
   "outputs": [],
   "source": [
    "X_train= np.arange(10).reshape((10,1))"
   ]
  },
  {
   "cell_type": "code",
   "execution_count": 12,
   "metadata": {
    "collapsed": true
   },
   "outputs": [],
   "source": [
    "y_train=np.array([1.0,1.3,3.1,\n",
    "                  2.0,5.0,6.3,\n",
    "                  6.6,7.4,8.0,\n",
    "                  9.0])"
   ]
  },
  {
   "cell_type": "code",
   "execution_count": 13,
   "metadata": {},
   "outputs": [],
   "source": [
    "class TFLinreg(object):\n",
    "    def __init__(self,x_dim,learning_rate=0.01,random_seed=None):\n",
    "        self.x_dim=x_dim\n",
    "        self.learning_rate=learning_rate\n",
    "        self.g=tf.Graph()\n",
    "        \n",
    "        with self.g.as_default():\n",
    "            tf.set_random_seed(random_seed)\n",
    "            self.build()\n",
    "            self.init_op=tf.global_variables_initializer()\n",
    "    \n",
    "    def build(self):\n",
    "        self.X=tf.placeholder(dtype=tf.float32,shape=(None,self.x_dim),\n",
    "                            name='x_input')\n",
    "        self.y=tf.placeholder(dtype=tf.float32,shape=(None),name='y_input')\n",
    "        print(self.X)\n",
    "        print(self.y)\n",
    "        w=tf.Variable(tf.zeros(shape=(1)),name='weight')\n",
    "        b=tf.Variable(tf.zeros(shape=(1)),name='bias')\n",
    "        print(w)\n",
    "        print(b)\n",
    "        self.z_net=tf.squeeze(w*self.X + b,name='z_net')\n",
    "        print(self.z_net)\n",
    "        square_errors=tf.square(self.y-self.z_net,name='sqr_errors')\n",
    "        print(square_errors)\n",
    "        self.mean_cost=tf.reduce_mean(square_errors,name='mean_cost')\n",
    "        optimizer=tf.train.GradientDescentOptimizer(learning_rate=self.learning_rate)\n",
    "        self.optimizer=optimizer.minimize(self.mean_cost)"
   ]
  },
  {
   "cell_type": "code",
   "execution_count": 14,
   "metadata": {},
   "outputs": [
    {
     "name": "stdout",
     "output_type": "stream",
     "text": [
      "Tensor(\"x_input:0\", shape=(?, 1), dtype=float32)\n",
      "Tensor(\"y_input:0\", dtype=float32)\n",
      "<tf.Variable 'weight:0' shape=(1,) dtype=float32_ref>\n",
      "<tf.Variable 'bias:0' shape=(1,) dtype=float32_ref>\n",
      "Tensor(\"z_net:0\", dtype=float32)\n",
      "Tensor(\"sqr_errors:0\", dtype=float32)\n"
     ]
    }
   ],
   "source": [
    "lrmodel=TFLinreg(x_dim=X_train.shape[1],learning_rate=0.01)"
   ]
  },
  {
   "cell_type": "code",
   "execution_count": 15,
   "metadata": {
    "collapsed": true
   },
   "outputs": [],
   "source": [
    "def train_linreg(sess,model,X_train,y_train,num_epochs=10):\n",
    "    sess.run(model.init_op)\n",
    "    training_costs=[]\n",
    "    for i in range(num_epochs):\n",
    "        _,cost=sess.run([model.optimizer,model.mean_cost],feed_dict={model.X:X_train,model.y:y_train})\n",
    "\n",
    "        training_costs.append(cost)\n",
    "    return training_costs"
   ]
  },
  {
   "cell_type": "code",
   "execution_count": 16,
   "metadata": {
    "collapsed": true
   },
   "outputs": [],
   "source": [
    "sess=tf.Session(graph=lrmodel.g)\n",
    "training_costs=train_linreg(sess,lrmodel,X_train,y_train)"
   ]
  },
  {
   "cell_type": "code",
   "execution_count": 17,
   "metadata": {
    "collapsed": true
   },
   "outputs": [],
   "source": [
    "import matplotlib.pyplot as plt"
   ]
  },
  {
   "cell_type": "code",
   "execution_count": 18,
   "metadata": {},
   "outputs": [
    {
     "data": {
      "image/png": "[encoded data removed]",
      "text/plain": [
       "<matplotlib.figure.Figure at 0x1b98f62a668>"
      ]
     },
     "metadata": {},
     "output_type": "display_data"
    }
   ],
   "source": [
    "plt.plot(range(1,len(training_costs) +1),training_costs)\n",
    "plt.tight_layout()\n",
    "plt.xlabel(\"Epoch\")\n",
    "plt.ylabel('Training Cost')\n",
    "plt.show()"
   ]
  },
  {
   "cell_type": "code",
   "execution_count": 19,
   "metadata": {
    "collapsed": true
   },
   "outputs": [],
   "source": [
    "def predict_linreg(sess,model,X_test):\n",
    "    y_pred=sess.run(model.z_net,feed_dict={model.X:X_test})\n",
    "    return y_pred"
   ]
  },
  {
   "cell_type": "code",
   "execution_count": 20,
   "metadata": {},
   "outputs": [
    {
     "data": {
      "image/png": "[encoded data removed]",
      "text/plain": [
       "<matplotlib.figure.Figure at 0x1b98fa53630>"
      ]
     },
     "metadata": {},
     "output_type": "display_data"
    }
   ],
   "source": [
    "plt.scatter(X_train,y_train,marker='s',s=50,label='Training_Data')\n",
    "plt.plot(range(X_train.shape[0]),predict_linreg(sess,lrmodel,X_train),\n",
    "         color='gray',marker='o',markersize=6,linewidth=3,\n",
    "         label='LinReg Model')\n",
    "plt.xlabel('x')\n",
    "plt.ylabel('y')\n",
    "plt.legend()\n",
    "plt.tight_layout()\n",
    "plt.show()"
   ]
  },
  {
   "cell_type": "code",
   "execution_count": 21,
   "metadata": {
    "collapsed": true
   },
   "outputs": [],
   "source": [
    "#Builiding multilayer neural networks using Tensorflow Layers API"
   ]
  },
  {
   "cell_type": "code",
   "execution_count": 22,
   "metadata": {
    "collapsed": true
   },
   "outputs": [],
   "source": [
    "#Laoding the data"
   ]
  },
  {
   "cell_type": "code",
   "execution_count": 24,
   "metadata": {},
   "outputs": [],
   "source": [
    "import os\n",
    "import struct\n",
    "import numpy as np"
   ]
  },
  {
   "cell_type": "code",
   "execution_count": 49,
   "metadata": {
    "collapsed": true
   },
   "outputs": [],
   "source": [
    "def load_mnist(path,kind='train'):\n",
    "    labels_path=os.path.join(path,'%s-labels.idx1-ubyte' %kind)\n",
    "    image_path=os.path.join(path,'%s-images.idx3-ubyte' %kind)\n",
    "    with open(labels_path,'rb') as lbpath:\n",
    "        magic,n=struct.unpack('>II',lbpath.read(8))\n",
    "        labels=np.fromfile(lbpath,dtype=np.uint8)\n",
    "    with open(image_path, 'rb') as imgpath:\n",
    "        magic,num,rows,cols=struct.unpack('>IIII',imgpath.read(16))\n",
    "        \n",
    "        images=np.fromfile(imgpath,dtype=np.uint8).reshape(len(labels),784)\n",
    "        images=((images/255.)-.5)*2\n",
    "    return images,labels"
   ]
  },
  {
   "cell_type": "code",
   "execution_count": 50,
   "metadata": {},
   "outputs": [],
   "source": [
    "X_train,y_train=load_mnist('C:\\\\Users\\Satish\\Desktop\\Tensorflow-Bootcamp-master\\Mynotes/MNIST_Data',kind='train')"
   ]
  },
  {
   "cell_type": "code",
   "execution_count": 51,
   "metadata": {
    "collapsed": true
   },
   "outputs": [],
   "source": [
    "X_test,y_test=load_mnist('C:\\\\Users\\Satish\\Desktop\\Tensorflow-Bootcamp-master\\Mynotes/MNIST_Data',kind='t10k')"
   ]
  },
  {
   "cell_type": "code",
   "execution_count": 52,
   "metadata": {
    "collapsed": true
   },
   "outputs": [],
   "source": [
    "mean_vals=np.mean(X_train,axis=0)"
   ]
  },
  {
   "cell_type": "code",
   "execution_count": 53,
   "metadata": {
    "collapsed": true
   },
   "outputs": [],
   "source": [
    "std_vals=np.std(X_train)"
   ]
  },
  {
   "cell_type": "code",
   "execution_count": 59,
   "metadata": {},
   "outputs": [],
   "source": [
    "X_train_centered=(X_train-mean_vals)/std_vals"
   ]
  },
  {
   "cell_type": "code",
   "execution_count": 60,
   "metadata": {
    "collapsed": true
   },
   "outputs": [],
   "source": [
    "X_test_centered=(X_test-mean_vals)/std_vals"
   ]
  },
  {
   "cell_type": "code",
   "execution_count": 61,
   "metadata": {
    "collapsed": true
   },
   "outputs": [],
   "source": [
    "del X_train,X_test"
   ]
  },
  {
   "cell_type": "code",
   "execution_count": 62,
   "metadata": {},
   "outputs": [
    {
     "name": "stdout",
     "output_type": "stream",
     "text": [
      "(60000, 784) (60000,)\n"
     ]
    }
   ],
   "source": [
    "print(X_train_centered.shape,y_train.shape)"
   ]
  },
  {
   "cell_type": "code",
   "execution_count": 63,
   "metadata": {},
   "outputs": [
    {
     "name": "stdout",
     "output_type": "stream",
     "text": [
      "(10000, 784) (60000,)\n"
     ]
    }
   ],
   "source": [
    "print(X_test_centered.shape,y_train.shape)"
   ]
  },
  {
   "cell_type": "code",
   "execution_count": 64,
   "metadata": {
    "collapsed": true
   },
   "outputs": [],
   "source": [
    "n_features=X_train_centered.shape[1]"
   ]
  },
  {
   "cell_type": "code",
   "execution_count": 65,
   "metadata": {
    "collapsed": true
   },
   "outputs": [],
   "source": [
    "n_classes=10"
   ]
  },
  {
   "cell_type": "code",
   "execution_count": 66,
   "metadata": {
    "collapsed": true
   },
   "outputs": [],
   "source": [
    "random_seed=123"
   ]
  },
  {
   "cell_type": "code",
   "execution_count": 67,
   "metadata": {
    "collapsed": true
   },
   "outputs": [],
   "source": [
    "np.random.seed(random_seed)"
   ]
  },
  {
   "cell_type": "code",
   "execution_count": 68,
   "metadata": {
    "collapsed": true
   },
   "outputs": [],
   "source": [
    "g=tf.Graph()"
   ]
  },
  {
   "cell_type": "code",
   "execution_count": 72,
   "metadata": {},
   "outputs": [],
   "source": [
    "with g.as_default():\n",
    "    tf.set_random_seed(random_seed)\n",
    "    tf_x=tf.placeholder(dtype=tf.float32,shape=(None,n_features),name='tf_x')\n",
    "    tf_y=tf.placeholder(dtype=tf.int32,shape=None,name='tf_y')\n",
    "    y_onehot=tf.one_hot(indices=tf_y,depth=n_classes)\n",
    "    h1=tf.layers.dense(inputs=tf_x,units=50,activation=tf.tanh,name='layer1')\n",
    "    h2=tf.layers.dense(inputs=h1,units=50,activation=tf.tanh,name='layer2')\n",
    "    logits=tf.layers.dense(inputs=h2,units=10,activation=None,name='layer3')\n",
    "    prediction={'classes': tf.argmax(logits,axis=1,name='predictied_classes'),\n",
    "                'probabilities':tf.nn.softmax(logits,name='softmax_tensor')}"
   ]
  },
  {
   "cell_type": "code",
   "execution_count": 73,
   "metadata": {},
   "outputs": [],
   "source": [
    "with g.as_default():\n",
    "    cost=tf.losses.softmax_cross_entropy(onehot_labels=y_onehot,logits=logits)\n",
    "    optimizer=tf.train.GradientDescentOptimizer(learning_rate=0.001)\n",
    "    train_op=optimizer.minimize(loss=cost)\n",
    "    init_op=tf.global_variables_initializer()"
   ]
  },
  {
   "cell_type": "code",
   "execution_count": 74,
   "metadata": {
    "collapsed": true
   },
   "outputs": [],
   "source": [
    "def create_batch_generator(X,y,batch_size=128,shuffle=False):\n",
    "    X_copy=np.array(X)\n",
    "    y_copy=np.array(y)\n",
    "    \n",
    "    if shuffle:\n",
    "        data=np.column_stack((X_copy,y_copy))\n",
    "        np.random.shuffle(data)\n",
    "        X_copy=data[:,:-1]\n",
    "        y_copy=data[:,-1].astype(int)\n",
    "    for i in range(0,X.shape[0],batch_size):\n",
    "        yield(X_copy[i:i+batch_size,:],y_copy[i:i+batch_size])"
   ]
  },
  {
   "cell_type": "code",
   "execution_count": 76,
   "metadata": {},
   "outputs": [
    {
     "name": "stdout",
     "output_type": "stream",
     "text": [
      "--Epoch  1 Avg.Training Loass: 1.5573\n",
      "--Epoch  2 Avg.Training Loass: 0.9492\n",
      "--Epoch  3 Avg.Training Loass: 0.7499\n",
      "--Epoch  4 Avg.Training Loass: 0.6387\n",
      "--Epoch  5 Avg.Training Loass: 0.5668\n",
      "--Epoch  6 Avg.Training Loass: 0.5160\n",
      "--Epoch  7 Avg.Training Loass: 0.4781\n",
      "--Epoch  8 Avg.Training Loass: 0.4486\n",
      "--Epoch  9 Avg.Training Loass: 0.4247\n",
      "--Epoch 10 Avg.Training Loass: 0.4051\n",
      "--Epoch 11 Avg.Training Loass: 0.3884\n",
      "--Epoch 12 Avg.Training Loass: 0.3741\n",
      "--Epoch 13 Avg.Training Loass: 0.3617\n",
      "--Epoch 14 Avg.Training Loass: 0.3507\n",
      "--Epoch 15 Avg.Training Loass: 0.3408\n",
      "--Epoch 16 Avg.Training Loass: 0.3320\n",
      "--Epoch 17 Avg.Training Loass: 0.3239\n",
      "--Epoch 18 Avg.Training Loass: 0.3165\n",
      "--Epoch 19 Avg.Training Loass: 0.3097\n",
      "--Epoch 20 Avg.Training Loass: 0.3035\n",
      "--Epoch 21 Avg.Training Loass: 0.2976\n",
      "--Epoch 22 Avg.Training Loass: 0.2921\n",
      "--Epoch 23 Avg.Training Loass: 0.2870\n",
      "--Epoch 24 Avg.Training Loass: 0.2822\n",
      "--Epoch 25 Avg.Training Loass: 0.2776\n",
      "--Epoch 26 Avg.Training Loass: 0.2733\n",
      "--Epoch 27 Avg.Training Loass: 0.2693\n",
      "--Epoch 28 Avg.Training Loass: 0.2654\n",
      "--Epoch 29 Avg.Training Loass: 0.2617\n",
      "--Epoch 30 Avg.Training Loass: 0.2581\n",
      "--Epoch 31 Avg.Training Loass: 0.2547\n",
      "--Epoch 32 Avg.Training Loass: 0.2515\n",
      "--Epoch 33 Avg.Training Loass: 0.2483\n",
      "--Epoch 34 Avg.Training Loass: 0.2453\n",
      "--Epoch 35 Avg.Training Loass: 0.2425\n",
      "--Epoch 36 Avg.Training Loass: 0.2397\n",
      "--Epoch 37 Avg.Training Loass: 0.2370\n",
      "--Epoch 38 Avg.Training Loass: 0.2344\n",
      "--Epoch 39 Avg.Training Loass: 0.2319\n",
      "--Epoch 40 Avg.Training Loass: 0.2294\n",
      "--Epoch 41 Avg.Training Loass: 0.2271\n",
      "--Epoch 42 Avg.Training Loass: 0.2248\n",
      "--Epoch 43 Avg.Training Loass: 0.2226\n",
      "--Epoch 44 Avg.Training Loass: 0.2204\n",
      "--Epoch 45 Avg.Training Loass: 0.2183\n",
      "--Epoch 46 Avg.Training Loass: 0.2163\n",
      "--Epoch 47 Avg.Training Loass: 0.2143\n",
      "--Epoch 48 Avg.Training Loass: 0.2124\n",
      "--Epoch 49 Avg.Training Loass: 0.2105\n",
      "--Epoch 50 Avg.Training Loass: 0.2086\n"
     ]
    }
   ],
   "source": [
    "sess=tf.Session(graph=g)\n",
    "sess.run(init_op)\n",
    "\n",
    "for epoch in range(50):\n",
    "    training_costs=[]\n",
    "    batch_generator=create_batch_generator(X_train_centered,y_train,batch_size=64)\n",
    "    \n",
    "    for batch_X,batch_y in batch_generator:\n",
    "        feed={tf_x:batch_X,tf_y:batch_y}\n",
    "        _,batch_cost=sess.run([train_op,cost],feed_dict=feed)\n",
    "        training_costs.append(batch_cost)\n",
    "    print('--Epoch %2d '\n",
    "          'Avg.Training Loass: %.4f' %(epoch+1 ,np.mean(training_costs)))"
   ]
  },
  {
   "cell_type": "code",
   "execution_count": 77,
   "metadata": {
    "collapsed": true
   },
   "outputs": [],
   "source": [
    "feed={tf_x:X_test_centered}"
   ]
  },
  {
   "cell_type": "code",
   "execution_count": 78,
   "metadata": {
    "collapsed": true
   },
   "outputs": [],
   "source": [
    "y_pred=sess.run(prediction['classes'],feed_dict=feed)"
   ]
  },
  {
   "cell_type": "code",
   "execution_count": 80,
   "metadata": {},
   "outputs": [
    {
     "name": "stdout",
     "output_type": "stream",
     "text": [
      "Test Accuracy 93.89\n"
     ]
    }
   ],
   "source": [
    "print('Test Accuracy %.2f' %(100*np.sum(y_pred==y_test)/y_test.shape[0]))"
   ]
  },
  {
   "cell_type": "code",
   "execution_count": null,
   "metadata": {
    "collapsed": true
   },
   "outputs": [],
   "source": []
  }
 ],
 "metadata": {
  "kernelspec": {
   "display_name": "Python 3",
   "language": "python",
   "name": "python3"
  },
  "language_info": {
   "codemirror_mode": {
    "name": "ipython",
    "version": 3
   },
   "file_extension": ".py",
   "mimetype": "text/x-python",
   "name": "python",
   "nbconvert_exporter": "python",
   "pygments_lexer": "ipython3",
   "version": "3.5.4"
  }
 },
 "nbformat": 4,
 "nbformat_minor": 2
}
