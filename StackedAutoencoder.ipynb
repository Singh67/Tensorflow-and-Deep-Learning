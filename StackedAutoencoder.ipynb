{
 "cells": [
  {
   "cell_type": "code",
   "execution_count": 1,
   "metadata": {
    "collapsed": true
   },
   "outputs": [],
   "source": [
    "import numpy as np\n",
    "import matplotlib.pyplot as plt\n",
    "%matplotlib inline"
   ]
  },
  {
   "cell_type": "code",
   "execution_count": 2,
   "metadata": {
    "collapsed": true
   },
   "outputs": [],
   "source": [
    "import tensorflow as tf"
   ]
  },
  {
   "cell_type": "code",
   "execution_count": 3,
   "metadata": {
    "collapsed": true
   },
   "outputs": [],
   "source": [
    "from tensorflow.examples.tutorials.mnist import input_datadata"
   ]
  },
  {
   "cell_type": "code",
   "execution_count": 5,
   "metadata": {},
   "outputs": [
    {
     "name": "stdout",
     "output_type": "stream",
     "text": [
      "Extracting C:/Users/Satish/Desktop/Tensorflow-Bootcamp-master/MNIST_Data\\train-images-idx3-ubyte.gz\n",
      "Extracting C:/Users/Satish/Desktop/Tensorflow-Bootcamp-master/MNIST_Data\\train-labels-idx1-ubyte.gz\n",
      "Extracting C:/Users/Satish/Desktop/Tensorflow-Bootcamp-master/MNIST_Data\\t10k-images-idx3-ubyte.gz\n",
      "Extracting C:/Users/Satish/Desktop/Tensorflow-Bootcamp-master/MNIST_Data\\t10k-labels-idx1-ubyte.gz\n"
     ]
    }
   ],
   "source": [
    "mnist=input_data.read_data_sets('C:/Users/Satish/Desktop/Tensorflow-Bootcamp-master/MNIST_Data',one_hot=True)"
   ]
  },
  {
   "cell_type": "code",
   "execution_count": 6,
   "metadata": {
    "collapsed": true
   },
   "outputs": [],
   "source": [
    "tf.reset_default_graph()"
   ]
  },
  {
   "cell_type": "code",
   "execution_count": 7,
   "metadata": {
    "collapsed": true
   },
   "outputs": [],
   "source": [
    "#784\n",
    "#392\n",
    "#196\n",
    "#392\n",
    "#784"
   ]
  },
  {
   "cell_type": "code",
   "execution_count": 9,
   "metadata": {
    "collapsed": true
   },
   "outputs": [],
   "source": [
    "num_inputs=784\n",
    "neurons_hid1=392\n",
    "neurons_hid2=196\n",
    "neurons_hid3=neurons_hid1\n",
    "num_outputs=num_inputs"
   ]
  },
  {
   "cell_type": "code",
   "execution_count": 10,
   "metadata": {
    "collapsed": true
   },
   "outputs": [],
   "source": [
    "learning_rate=0.01"
   ]
  },
  {
   "cell_type": "code",
   "execution_count": 11,
   "metadata": {
    "collapsed": true
   },
   "outputs": [],
   "source": [
    "actf=tf.nn.relu"
   ]
  },
  {
   "cell_type": "code",
   "execution_count": 12,
   "metadata": {
    "collapsed": true
   },
   "outputs": [],
   "source": [
    "X=tf.placeholder(tf.float32,shape=[None,num_inputs])"
   ]
  },
  {
   "cell_type": "code",
   "execution_count": 13,
   "metadata": {
    "collapsed": true
   },
   "outputs": [],
   "source": [
    "initializer=tf.variance_scaling_initializer()"
   ]
  },
  {
   "cell_type": "code",
   "execution_count": 15,
   "metadata": {},
   "outputs": [],
   "source": [
    "w1=tf.Variable(initializer([num_inputs,neurons_hid1]),dtype=tf.float32)\n",
    "w2=tf.Variable(initializer([neurons_hid1,neurons_hid2]),dtype=tf.float32)\n",
    "w3=tf.Variable(initializer([neurons_hid2,neurons_hid3]),dtype=tf.float32)\n",
    "w4=tf.Variable(initializer([neurons_hid3,num_outputs]),dtype=tf.float32)"
   ]
  },
  {
   "cell_type": "code",
   "execution_count": 17,
   "metadata": {
    "collapsed": true
   },
   "outputs": [],
   "source": [
    "b1=tf.Variable(tf.zeros(neurons_hid1))\n",
    "b2=tf.Variable(tf.zeros(neurons_hid2))\n",
    "b3=tf.Variable(tf.zeros(neurons_hid3))\n",
    "b4=tf.Variable(tf.zeros(num_outputs))"
   ]
  },
  {
   "cell_type": "code",
   "execution_count": 18,
   "metadata": {
    "collapsed": true
   },
   "outputs": [],
   "source": [
    "act_func=tf.nn.relu"
   ]
  },
  {
   "cell_type": "code",
   "execution_count": 19,
   "metadata": {
    "collapsed": true
   },
   "outputs": [],
   "source": [
    "hid_layer1=act_func(tf.matmul(X,w1) + b1)\n",
    "hid_layer2=act_func(tf.matmul(hid_layer1,w2) + b2)\n",
    "hid_layer3=act_func(tf.matmul(hid_layer2,w3) + b3)\n",
    "output_layer=act_func(tf.matmul(hid_layer3,w4) + b4)"
   ]
  },
  {
   "cell_type": "code",
   "execution_count": 20,
   "metadata": {
    "collapsed": true
   },
   "outputs": [],
   "source": [
    "loss=tf.reduce_mean(tf.square(output_layer-X))"
   ]
  },
  {
   "cell_type": "code",
   "execution_count": 21,
   "metadata": {
    "collapsed": true
   },
   "outputs": [],
   "source": [
    "optimizer=tf.train.AdamOptimizer(learning_rate)"
   ]
  },
  {
   "cell_type": "code",
   "execution_count": 22,
   "metadata": {
    "collapsed": true
   },
   "outputs": [],
   "source": [
    "train=optimizer.minimize(loss)"
   ]
  },
  {
   "cell_type": "code",
   "execution_count": 23,
   "metadata": {
    "collapsed": true
   },
   "outputs": [],
   "source": [
    "init=tf.global_variables_initializer()"
   ]
  },
  {
   "cell_type": "code",
   "execution_count": 24,
   "metadata": {
    "collapsed": true
   },
   "outputs": [],
   "source": [
    "saver=tf.train.Saver()"
   ]
  },
  {
   "cell_type": "code",
   "execution_count": 26,
   "metadata": {},
   "outputs": [
    {
     "name": "stdout",
     "output_type": "stream",
     "text": [
      "Epoch : 0  Loss :  0.0325632318854332\n",
      "Epoch : 1  Loss :  0.0288497656583786\n",
      "Epoch : 2  Loss :  0.027458835393190384\n",
      "Epoch : 3  Loss :  0.026805872097611427\n",
      "Epoch : 4  Loss :  0.0270448736846447\n"
     ]
    }
   ],
   "source": [
    "num_epochs=5\n",
    "\n",
    "batch_size=150\n",
    "\n",
    "with tf.Session() as sess:\n",
    "    sess.run(init)\n",
    "    \n",
    "    for epoch in range(num_epochs):\n",
    "        \n",
    "        num_batches=mnist.train.num_examples//batch_size\n",
    "        \n",
    "        for iteration in range(num_batches):\n",
    "            X_batch,y_batch=mnist.train.next_batch(batch_size)\n",
    "            sess.run(train,feed_dict={X:X_batch})\n",
    "            \n",
    "        training_loss=loss.eval(feed_dict={X:X_batch})\n",
    "        \n",
    "        print(\"Epoch : {}  Loss :  {}\".format(epoch,training_loss))\n",
    "        \n",
    "    saver.save(sess,'./example_stacked_autoencoder.ckpt')"
   ]
  },
  {
   "cell_type": "code",
   "execution_count": 28,
   "metadata": {},
   "outputs": [
    {
     "name": "stdout",
     "output_type": "stream",
     "text": [
      "INFO:tensorflow:Restoring parameters from ./example_stacked_autoencoder.ckpt\n"
     ]
    }
   ],
   "source": [
    "num_test_images=10\n",
    "\n",
    "with tf.Session() as sess:\n",
    "    saver.restore(sess,'./example_stacked_autoencoder.ckpt')\n",
    "    result=output_layer.eval(feed_dict={X:mnist.test.images[:num_test_images]})"
   ]
  },
  {
   "cell_type": "code",
   "execution_count": 30,
   "metadata": {},
   "outputs": [
    {
     "data": {
      "text/plain": [
       "array([[ 0.,  0.,  0., ...,  0.,  0.,  0.],\n",
       "       [ 0.,  0.,  0., ...,  0.,  0.,  0.],\n",
       "       [ 0.,  0.,  0., ...,  0.,  0.,  0.],\n",
       "       ..., \n",
       "       [ 0.,  0.,  0., ...,  0.,  0.,  0.],\n",
       "       [ 0.,  0.,  0., ...,  0.,  0.,  0.],\n",
       "       [ 0.,  0.,  0., ...,  0.,  0.,  0.]], dtype=float32)"
      ]
     },
     "execution_count": 30,
     "metadata": {},
     "output_type": "execute_result"
    }
   ],
   "source": [
    "result"
   ]
  },
  {
   "cell_type": "code",
   "execution_count": 32,
   "metadata": {},
   "outputs": [
    {
     "data": {
      "image/png": "[encoded data removed]",
      "text/plain": [
       "<matplotlib.figure.Figure at 0x21abfaa75f8>"
      ]
     },
     "metadata": {},
     "output_type": "display_data"
    }
   ],
   "source": [
    "f, a = plt.subplots(2, 10, figsize=(20, 4))\n",
    "for i in range(num_test_images):\n",
    "    a[0][i].imshow(np.reshape(mnist.test.images[i], (28, 28)))\n",
    "    a[1][i].imshow(np.reshape(result[i], (28, 28)))"
   ]
  },
  {
   "cell_type": "code",
   "execution_count": null,
   "metadata": {
    "collapsed": true
   },
   "outputs": [],
   "source": []
  }
 ],
 "metadata": {
  "kernelspec": {
   "display_name": "Python 3",
   "language": "python",
   "name": "python3"
  },
  "language_info": {
   "codemirror_mode": {
    "name": "ipython",
    "version": 3
   },
   "file_extension": ".py",
   "mimetype": "text/x-python",
   "name": "python",
   "nbconvert_exporter": "python",
   "pygments_lexer": "ipython3",
   "version": "3.5.4"
  }
 },
 "nbformat": 4,
 "nbformat_minor": 2
}
